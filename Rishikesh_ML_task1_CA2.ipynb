{
 "cells": [
  {
   "attachments": {},
   "cell_type": "markdown",
   "metadata": {},
   "source": [
    "<h1>ML TASK1 CA2</h1> \n",
    "<h4>Name: RISHIKESH WAGHELA</h4>\n",
    "<h4>student_no : 10628916</h4>\n",
    "<h2>Table of Contents</h2>\n",
    "<div class=\"alert alert-block alert-info\" style=\"margin-top: 50px\">\n",
    "    <ul>\n",
    "        <li>\n",
    "            <a href=\"#USINGLOGIC\">USING LOGIC</a>\n",
    "        </li>\n",
    "        <li>\n",
    "            <a href=\"#BAYETHEROEM\">MATHEMATICALLY BAYE'S THEOREM</a>\n",
    "        </li>\n",
    "        <li>\n",
    "            <a href=\"#question3\">NAIVE BAYE CLASSIFIER</a>\n",
    "        </li>\n",
    "    </ul>\n",
    "</div>\n",
    "<hr>\n"
   ]
  },
  {
   "cell_type": "code",
   "execution_count": 43,
   "metadata": {},
   "outputs": [],
   "source": [
    "# library\n",
    "import pandas as pd\n"
   ]
  },
  {
   "attachments": {},
   "cell_type": "markdown",
   "metadata": {},
   "source": [
    "<h1 id =\"USINGLOGIC\">USING LOGIC</h1>"
   ]
  },
  {
   "cell_type": "code",
   "execution_count": 44,
   "metadata": {},
   "outputs": [],
   "source": [
    "# creating a dataframe\n",
    "covid_df = pd.DataFrame({\"Fever\":[\"Y\", \"N\",\"Y\",\"Y\",\"N\",\"Y\",\"N\",\"N\",\"N\",\"Y\",\"N\",\"Y\",\"Y\",\"Y\"],\n",
    "                    \"Sore_Throat\":[\"N\",\"N\",\"N\",\"N\",\"N\",\"N\",\"Y\",\"Y\",\"Y\",\"Y\",\"Y\",\"Y\",\"Y\",\"Y\"],\n",
    "                    \"Lost_Sense_Smell\": [\"Y\",\"N\",\"N\",\"Y\",\"N\",\"N\",\"Y\",\"N\",\"Y\",\"N\",\"N\",\"Y\",\"Y\",\"N\"],\n",
    "                    \"Headache\": [\"Y\",\"Y\",\"N\",\"Y\",\"Y\",\"Y\",\"N\",\"N\",\"Y\",\"Y\",\"N\",\"Y\",\"Y\",\"Y\"],\n",
    "                    \"Bodyache\": [\"Y\",\"N\",\"Y\",\"Y\",\"N\",\"Y\",\"N\",\"Y\",\"Y\",\"N\",\"N\",\"Y\",\"Y\",\"N\"],\n",
    "                    \"Covid_19\" : [\"Y\",\"N\",\"N\",\"Y\",\"N\",\"N\",\"N\",\"N\",\"N\",\"Y\",\"N\",\"Y\",\"Y\",\"Y\"]\n",
    "                    \n",
    "                    \n",
    "                    \n",
    "         })"
   ]
  },
  {
   "cell_type": "code",
   "execution_count": 45,
   "metadata": {},
   "outputs": [
    {
     "data": {
      "text/html": [
       "<div>\n",
       "<style scoped>\n",
       "    .dataframe tbody tr th:only-of-type {\n",
       "        vertical-align: middle;\n",
       "    }\n",
       "\n",
       "    .dataframe tbody tr th {\n",
       "        vertical-align: top;\n",
       "    }\n",
       "\n",
       "    .dataframe thead th {\n",
       "        text-align: right;\n",
       "    }\n",
       "</style>\n",
       "<table border=\"1\" class=\"dataframe\">\n",
       "  <thead>\n",
       "    <tr style=\"text-align: right;\">\n",
       "      <th></th>\n",
       "      <th>Fever</th>\n",
       "      <th>Sore_Throat</th>\n",
       "      <th>Lost_Sense_Smell</th>\n",
       "      <th>Headache</th>\n",
       "      <th>Bodyache</th>\n",
       "      <th>Covid_19</th>\n",
       "    </tr>\n",
       "  </thead>\n",
       "  <tbody>\n",
       "    <tr>\n",
       "      <th>0</th>\n",
       "      <td>Y</td>\n",
       "      <td>N</td>\n",
       "      <td>Y</td>\n",
       "      <td>Y</td>\n",
       "      <td>Y</td>\n",
       "      <td>Y</td>\n",
       "    </tr>\n",
       "    <tr>\n",
       "      <th>1</th>\n",
       "      <td>N</td>\n",
       "      <td>N</td>\n",
       "      <td>N</td>\n",
       "      <td>Y</td>\n",
       "      <td>N</td>\n",
       "      <td>N</td>\n",
       "    </tr>\n",
       "    <tr>\n",
       "      <th>2</th>\n",
       "      <td>Y</td>\n",
       "      <td>N</td>\n",
       "      <td>N</td>\n",
       "      <td>N</td>\n",
       "      <td>Y</td>\n",
       "      <td>N</td>\n",
       "    </tr>\n",
       "    <tr>\n",
       "      <th>3</th>\n",
       "      <td>Y</td>\n",
       "      <td>N</td>\n",
       "      <td>Y</td>\n",
       "      <td>Y</td>\n",
       "      <td>Y</td>\n",
       "      <td>Y</td>\n",
       "    </tr>\n",
       "    <tr>\n",
       "      <th>4</th>\n",
       "      <td>N</td>\n",
       "      <td>N</td>\n",
       "      <td>N</td>\n",
       "      <td>Y</td>\n",
       "      <td>N</td>\n",
       "      <td>N</td>\n",
       "    </tr>\n",
       "    <tr>\n",
       "      <th>5</th>\n",
       "      <td>Y</td>\n",
       "      <td>N</td>\n",
       "      <td>N</td>\n",
       "      <td>Y</td>\n",
       "      <td>Y</td>\n",
       "      <td>N</td>\n",
       "    </tr>\n",
       "    <tr>\n",
       "      <th>6</th>\n",
       "      <td>N</td>\n",
       "      <td>Y</td>\n",
       "      <td>Y</td>\n",
       "      <td>N</td>\n",
       "      <td>N</td>\n",
       "      <td>N</td>\n",
       "    </tr>\n",
       "    <tr>\n",
       "      <th>7</th>\n",
       "      <td>N</td>\n",
       "      <td>Y</td>\n",
       "      <td>N</td>\n",
       "      <td>N</td>\n",
       "      <td>Y</td>\n",
       "      <td>N</td>\n",
       "    </tr>\n",
       "    <tr>\n",
       "      <th>8</th>\n",
       "      <td>N</td>\n",
       "      <td>Y</td>\n",
       "      <td>Y</td>\n",
       "      <td>Y</td>\n",
       "      <td>Y</td>\n",
       "      <td>N</td>\n",
       "    </tr>\n",
       "    <tr>\n",
       "      <th>9</th>\n",
       "      <td>Y</td>\n",
       "      <td>Y</td>\n",
       "      <td>N</td>\n",
       "      <td>Y</td>\n",
       "      <td>N</td>\n",
       "      <td>Y</td>\n",
       "    </tr>\n",
       "    <tr>\n",
       "      <th>10</th>\n",
       "      <td>N</td>\n",
       "      <td>Y</td>\n",
       "      <td>N</td>\n",
       "      <td>N</td>\n",
       "      <td>N</td>\n",
       "      <td>N</td>\n",
       "    </tr>\n",
       "    <tr>\n",
       "      <th>11</th>\n",
       "      <td>Y</td>\n",
       "      <td>Y</td>\n",
       "      <td>Y</td>\n",
       "      <td>Y</td>\n",
       "      <td>Y</td>\n",
       "      <td>Y</td>\n",
       "    </tr>\n",
       "    <tr>\n",
       "      <th>12</th>\n",
       "      <td>Y</td>\n",
       "      <td>Y</td>\n",
       "      <td>Y</td>\n",
       "      <td>Y</td>\n",
       "      <td>Y</td>\n",
       "      <td>Y</td>\n",
       "    </tr>\n",
       "    <tr>\n",
       "      <th>13</th>\n",
       "      <td>Y</td>\n",
       "      <td>Y</td>\n",
       "      <td>N</td>\n",
       "      <td>Y</td>\n",
       "      <td>N</td>\n",
       "      <td>Y</td>\n",
       "    </tr>\n",
       "  </tbody>\n",
       "</table>\n",
       "</div>"
      ],
      "text/plain": [
       "   Fever Sore_Throat Lost_Sense_Smell Headache Bodyache Covid_19\n",
       "0      Y           N                Y        Y        Y        Y\n",
       "1      N           N                N        Y        N        N\n",
       "2      Y           N                N        N        Y        N\n",
       "3      Y           N                Y        Y        Y        Y\n",
       "4      N           N                N        Y        N        N\n",
       "5      Y           N                N        Y        Y        N\n",
       "6      N           Y                Y        N        N        N\n",
       "7      N           Y                N        N        Y        N\n",
       "8      N           Y                Y        Y        Y        N\n",
       "9      Y           Y                N        Y        N        Y\n",
       "10     N           Y                N        N        N        N\n",
       "11     Y           Y                Y        Y        Y        Y\n",
       "12     Y           Y                Y        Y        Y        Y\n",
       "13     Y           Y                N        Y        N        Y"
      ]
     },
     "execution_count": 45,
     "metadata": {},
     "output_type": "execute_result"
    }
   ],
   "source": [
    "covid_df"
   ]
  },
  {
   "attachments": {},
   "cell_type": "markdown",
   "metadata": {},
   "source": [
    "## THE FUNCTION TO CHECK YOU HAVE COVID-19 OR NOT USING OUR GIVEN DATA"
   ]
  },
  {
   "cell_type": "code",
   "execution_count": 46,
   "metadata": {},
   "outputs": [],
   "source": [
    "##### single Function to check the output of the table\n",
    "\n",
    "def covid_checker():\n",
    "    print(\"WELCOME TO COVID TEST\")\n",
    "    \n",
    "    print(\"PLEASE ENTER Y/N\") # PLEASE ENTER Y OR N\n",
    "    Fever = str(input(\"Do you have Fever\"))\n",
    "    Sore_throat = str(input(\"Do you feel Sore throat\"))\n",
    "    Lost_Sense_smell = str(input(\"Do you have lost sense\"))\n",
    "    Headache = str(input(\"Do you have Headache\"))\n",
    "    Bodyache = str(input(\"do You have Body pain\"))\n",
    "    \n",
    "    if (Fever == 'Y') and (Headache == 'Y') and (Lost_Sense_smell == 'Y'):\n",
    "        print(\"You have covid\")\n",
    "        \n",
    "    elif (Fever == 'Y') and (Headache == 'Y') and (Sore_throat == 'Y'):\n",
    "        print(\"YOU HAVE COVID\")\n",
    "    \n",
    "    else:\n",
    "        print(\"YOU DON'T HAVE COVID\")"
   ]
  },
  {
   "cell_type": "code",
   "execution_count": 47,
   "metadata": {},
   "outputs": [],
   "source": [
    "# SAME FUNCTION TO VERIFY THE PREDICTION\n",
    "def covid_checker_model():\n",
    "    covid_df['PREDICTION'] = 'N'  # Add a new column to the DataFrame to store the predictions\n",
    "    for i in range(len(covid_df)):\n",
    "        if (covid_df.loc[i, \"Fever\"] == \"Y\") and (covid_df.loc[i, \"Headache\"] == \"Y\") and (covid_df.loc[i, \"Sore_Throat\"] == \"Y\"):\n",
    "            covid_df.loc[i, 'PREDICTION'] = \"Y\"\n",
    "        elif (covid_df.loc[i, \"Fever\"] == \"Y\") and (covid_df.loc[i, \"Headache\"] == \"Y\") and (covid_df.loc[i, \"Lost_Sense_Smell\"] == \"Y\"):\n",
    "            covid_df.loc[i, 'PREDICTION'] = \"Y\"\n",
    "    return covid_df[\"PREDICTION\"]"
   ]
  },
  {
   "cell_type": "code",
   "execution_count": 48,
   "metadata": {},
   "outputs": [
    {
     "data": {
      "text/html": [
       "<div>\n",
       "<style scoped>\n",
       "    .dataframe tbody tr th:only-of-type {\n",
       "        vertical-align: middle;\n",
       "    }\n",
       "\n",
       "    .dataframe tbody tr th {\n",
       "        vertical-align: top;\n",
       "    }\n",
       "\n",
       "    .dataframe thead th {\n",
       "        text-align: right;\n",
       "    }\n",
       "</style>\n",
       "<table border=\"1\" class=\"dataframe\">\n",
       "  <thead>\n",
       "    <tr style=\"text-align: right;\">\n",
       "      <th></th>\n",
       "      <th>Fever</th>\n",
       "      <th>Sore_Throat</th>\n",
       "      <th>Lost_Sense_Smell</th>\n",
       "      <th>Headache</th>\n",
       "      <th>Bodyache</th>\n",
       "      <th>Covid_19</th>\n",
       "      <th>PREDICTION</th>\n",
       "    </tr>\n",
       "  </thead>\n",
       "  <tbody>\n",
       "    <tr>\n",
       "      <th>0</th>\n",
       "      <td>Y</td>\n",
       "      <td>N</td>\n",
       "      <td>Y</td>\n",
       "      <td>Y</td>\n",
       "      <td>Y</td>\n",
       "      <td>Y</td>\n",
       "      <td>Y</td>\n",
       "    </tr>\n",
       "    <tr>\n",
       "      <th>1</th>\n",
       "      <td>N</td>\n",
       "      <td>N</td>\n",
       "      <td>N</td>\n",
       "      <td>Y</td>\n",
       "      <td>N</td>\n",
       "      <td>N</td>\n",
       "      <td>N</td>\n",
       "    </tr>\n",
       "    <tr>\n",
       "      <th>2</th>\n",
       "      <td>Y</td>\n",
       "      <td>N</td>\n",
       "      <td>N</td>\n",
       "      <td>N</td>\n",
       "      <td>Y</td>\n",
       "      <td>N</td>\n",
       "      <td>N</td>\n",
       "    </tr>\n",
       "    <tr>\n",
       "      <th>3</th>\n",
       "      <td>Y</td>\n",
       "      <td>N</td>\n",
       "      <td>Y</td>\n",
       "      <td>Y</td>\n",
       "      <td>Y</td>\n",
       "      <td>Y</td>\n",
       "      <td>Y</td>\n",
       "    </tr>\n",
       "    <tr>\n",
       "      <th>4</th>\n",
       "      <td>N</td>\n",
       "      <td>N</td>\n",
       "      <td>N</td>\n",
       "      <td>Y</td>\n",
       "      <td>N</td>\n",
       "      <td>N</td>\n",
       "      <td>N</td>\n",
       "    </tr>\n",
       "    <tr>\n",
       "      <th>5</th>\n",
       "      <td>Y</td>\n",
       "      <td>N</td>\n",
       "      <td>N</td>\n",
       "      <td>Y</td>\n",
       "      <td>Y</td>\n",
       "      <td>N</td>\n",
       "      <td>N</td>\n",
       "    </tr>\n",
       "    <tr>\n",
       "      <th>6</th>\n",
       "      <td>N</td>\n",
       "      <td>Y</td>\n",
       "      <td>Y</td>\n",
       "      <td>N</td>\n",
       "      <td>N</td>\n",
       "      <td>N</td>\n",
       "      <td>N</td>\n",
       "    </tr>\n",
       "    <tr>\n",
       "      <th>7</th>\n",
       "      <td>N</td>\n",
       "      <td>Y</td>\n",
       "      <td>N</td>\n",
       "      <td>N</td>\n",
       "      <td>Y</td>\n",
       "      <td>N</td>\n",
       "      <td>N</td>\n",
       "    </tr>\n",
       "    <tr>\n",
       "      <th>8</th>\n",
       "      <td>N</td>\n",
       "      <td>Y</td>\n",
       "      <td>Y</td>\n",
       "      <td>Y</td>\n",
       "      <td>Y</td>\n",
       "      <td>N</td>\n",
       "      <td>N</td>\n",
       "    </tr>\n",
       "    <tr>\n",
       "      <th>9</th>\n",
       "      <td>Y</td>\n",
       "      <td>Y</td>\n",
       "      <td>N</td>\n",
       "      <td>Y</td>\n",
       "      <td>N</td>\n",
       "      <td>Y</td>\n",
       "      <td>Y</td>\n",
       "    </tr>\n",
       "    <tr>\n",
       "      <th>10</th>\n",
       "      <td>N</td>\n",
       "      <td>Y</td>\n",
       "      <td>N</td>\n",
       "      <td>N</td>\n",
       "      <td>N</td>\n",
       "      <td>N</td>\n",
       "      <td>N</td>\n",
       "    </tr>\n",
       "    <tr>\n",
       "      <th>11</th>\n",
       "      <td>Y</td>\n",
       "      <td>Y</td>\n",
       "      <td>Y</td>\n",
       "      <td>Y</td>\n",
       "      <td>Y</td>\n",
       "      <td>Y</td>\n",
       "      <td>Y</td>\n",
       "    </tr>\n",
       "    <tr>\n",
       "      <th>12</th>\n",
       "      <td>Y</td>\n",
       "      <td>Y</td>\n",
       "      <td>Y</td>\n",
       "      <td>Y</td>\n",
       "      <td>Y</td>\n",
       "      <td>Y</td>\n",
       "      <td>Y</td>\n",
       "    </tr>\n",
       "    <tr>\n",
       "      <th>13</th>\n",
       "      <td>Y</td>\n",
       "      <td>Y</td>\n",
       "      <td>N</td>\n",
       "      <td>Y</td>\n",
       "      <td>N</td>\n",
       "      <td>Y</td>\n",
       "      <td>Y</td>\n",
       "    </tr>\n",
       "  </tbody>\n",
       "</table>\n",
       "</div>"
      ],
      "text/plain": [
       "   Fever Sore_Throat Lost_Sense_Smell Headache Bodyache Covid_19 PREDICTION\n",
       "0      Y           N                Y        Y        Y        Y          Y\n",
       "1      N           N                N        Y        N        N          N\n",
       "2      Y           N                N        N        Y        N          N\n",
       "3      Y           N                Y        Y        Y        Y          Y\n",
       "4      N           N                N        Y        N        N          N\n",
       "5      Y           N                N        Y        Y        N          N\n",
       "6      N           Y                Y        N        N        N          N\n",
       "7      N           Y                N        N        Y        N          N\n",
       "8      N           Y                Y        Y        Y        N          N\n",
       "9      Y           Y                N        Y        N        Y          Y\n",
       "10     N           Y                N        N        N        N          N\n",
       "11     Y           Y                Y        Y        Y        Y          Y\n",
       "12     Y           Y                Y        Y        Y        Y          Y\n",
       "13     Y           Y                N        Y        N        Y          Y"
      ]
     },
     "execution_count": 48,
     "metadata": {},
     "output_type": "execute_result"
    }
   ],
   "source": [
    "covid_df['PREDICTION'] = covid_checker_model()\n",
    "covid_df"
   ]
  },
  {
   "attachments": {},
   "cell_type": "markdown",
   "metadata": {},
   "source": [
    "<h1 id =\"BAYETHEROEM\">MATHEMATICALLY BAYE'S THEOREM</h1>\n"
   ]
  },
  {
   "attachments": {},
   "cell_type": "markdown",
   "metadata": {},
   "source": [
    "BAYE'S THEOREM\n",
    " \n",
    "                            P(A|B) = P(B|A)*P(A)/P(B)\n",
    "\n",
    "                            P(Y|x1,x2,x3..xn) = P(x1|Y) * P(x2|Y)......P(xn|Y) * P(Y)/P(x1,x2,x3....xn)\n",
    "\n",
    "                            Where Y is the target variable and x are features \n",
    "\n",
    "\n",
    "\n",
    "in our case we can do it \n",
    "                            \n",
    "                            \n",
    "                            \n",
    "                            To calculate the probability of having COVID-19 given the symptoms of headache, body ache, and sore throat\n",
    "                    \n",
    "                    \n",
    "                    P(Symptoms|Covid_19): the probability of having symptoms given that you have COVID-19.\n",
    "                    P(Covid_19|Symptoms): the probability of having COVID-19 given that you have symptoms.\n",
    "                    P(Covid_19) = 6/14 = 0.4286\n",
    "                    P(Symptoms|Covid_19) = 1 (everyone with COVID-19 in the dataset has these symptoms)\n",
    "                    P(Symptoms|Not Covid_19) = 4/8 = 0.5 (number of people without COVID-19 who have these symptoms divided by the total number of people without COVID-19)\n",
    "                    P(Symptoms) = 14/14 = 1 (everyone in the dataset has symptoms)\n",
    "\n",
    "                P(Covid_19|Headache, Bodyache, Sore_Throat) = (P(Headache, Bodyache, Sore_Throat|Covid_19) * P(Covid_19)) / P(Headache, Bodyache, Sore_Throat)\n",
    "                \n",
    "                P(Covid_19|Headache, Bodyache, Sore_Throat) = (1 * 0.4286) / P(Headache, Bodyache, Sore_Throat)\n",
    "                \n",
    "                P(Headache, Bodyache, Sore_Throat) = 1 * 0.4286 + (2/8) * (3/8) * (5/8) * (8/14) = 0.5357\n",
    "                \n",
    "                P(Covid_19|Headache, Bodyache, Sore_Throat) = (1 * 0.4286) / 0.5357 = 0.8\n",
    "\n",
    "                    So, given the signs of a headache, body ache, and sore throat, the likelihood of having COVID-19 is 0.8, or 80%.\n",
    "\n",
    "                \n"
   ]
  },
  {
   "attachments": {},
   "cell_type": "markdown",
   "metadata": {},
   "source": [
    "\n"
   ]
  },
  {
   "attachments": {},
   "cell_type": "markdown",
   "metadata": {},
   "source": [
    "<h1 id =\"question3\">NAIVE BAYE CLASSIFIER</h1>"
   ]
  },
  {
   "cell_type": "code",
   "execution_count": 49,
   "metadata": {},
   "outputs": [],
   "source": [
    "### library ####\n",
    "\n",
    "\n",
    "from sklearn.naive_bayes import GaussianNB\n",
    "from sklearn.model_selection import train_test_split\n",
    "from sklearn.preprocessing import OneHotEncoder \n",
    "from sklearn.metrics import accuracy_score\n",
    "from sklearn.metrics import confusion_matrix\n",
    "from sklearn import metrics\n",
    "import matplotlib.pyplot as plt\n",
    "from sklearn.metrics import classification_report\n",
    "\n"
   ]
  },
  {
   "cell_type": "code",
   "execution_count": 50,
   "metadata": {},
   "outputs": [],
   "source": [
    "# DEFINING X AND Y\n",
    "\n",
    "X = covid_df.drop(columns = [\"Covid_19\", \"PREDICTION\"])\n",
    "y = covid_df['Covid_19']\n"
   ]
  },
  {
   "cell_type": "code",
   "execution_count": 51,
   "metadata": {},
   "outputs": [],
   "source": [
    "ohe = OneHotEncoder(sparse = False)\n",
    "X = ohe.fit_transform(X)"
   ]
  },
  {
   "cell_type": "code",
   "execution_count": 52,
   "metadata": {},
   "outputs": [],
   "source": [
    "\n",
    "X_train, X_test, y_train, y_test = train_test_split(X, y, test_size=0.3, random_state=50)\n"
   ]
  },
  {
   "cell_type": "code",
   "execution_count": 53,
   "metadata": {},
   "outputs": [
    {
     "data": {
      "text/plain": [
       "GaussianNB()"
      ]
     },
     "execution_count": 53,
     "metadata": {},
     "output_type": "execute_result"
    }
   ],
   "source": [
    "nb = GaussianNB()\n",
    "nb.fit(X_train, y_train)\n",
    "\n"
   ]
  },
  {
   "cell_type": "code",
   "execution_count": 54,
   "metadata": {},
   "outputs": [],
   "source": [
    "# Step 4: Predict COVID-19\n",
    "y_pred = nb.predict(X_test)\n"
   ]
  },
  {
   "cell_type": "code",
   "execution_count": 55,
   "metadata": {},
   "outputs": [
    {
     "data": {
      "text/plain": [
       "100.0"
      ]
     },
     "execution_count": 55,
     "metadata": {},
     "output_type": "execute_result"
    }
   ],
   "source": [
    "#Accuracy\n",
    "nb.score(X_test, y_test) * 100"
   ]
  },
  {
   "cell_type": "code",
   "execution_count": 56,
   "metadata": {},
   "outputs": [
    {
     "data": {
      "text/plain": [
       "88.88888888888889"
      ]
     },
     "execution_count": 56,
     "metadata": {},
     "output_type": "execute_result"
    }
   ],
   "source": [
    "#Comparing the score of the trained data with test data\n",
    "nb.score(X_train,y_train)*100"
   ]
  },
  {
   "cell_type": "code",
   "execution_count": 57,
   "metadata": {},
   "outputs": [
    {
     "data": {
      "text/plain": [
       "1.0"
      ]
     },
     "execution_count": 57,
     "metadata": {},
     "output_type": "execute_result"
    }
   ],
   "source": [
    "accuracy_score(y_test, y_pred)"
   ]
  },
  {
   "cell_type": "code",
   "execution_count": 58,
   "metadata": {},
   "outputs": [
    {
     "data": {
      "image/png": "[encoded data removed]",
      "text/plain": [
       "<Figure size 640x480 with 2 Axes>"
      ]
     },
     "metadata": {},
     "output_type": "display_data"
    }
   ],
   "source": [
    "\n",
    "confusion_matrix = metrics.confusion_matrix(y_test, y_pred)\n",
    "cm_display = metrics.ConfusionMatrixDisplay(confusion_matrix = confusion_matrix, display_labels = [True, False])\n",
    "cm_display.plot()\n",
    "plt.show()"
   ]
  },
  {
   "cell_type": "code",
   "execution_count": 59,
   "metadata": {},
   "outputs": [
    {
     "name": "stdout",
     "output_type": "stream",
     "text": [
      "              precision    recall  f1-score   support\n",
      "\n",
      "           N       1.00      1.00      1.00         2\n",
      "           Y       1.00      1.00      1.00         3\n",
      "\n",
      "    accuracy                           1.00         5\n",
      "   macro avg       1.00      1.00      1.00         5\n",
      "weighted avg       1.00      1.00      1.00         5\n",
      "\n"
     ]
    }
   ],
   "source": [
    "print(classification_report(y_test , y_pred))\n"
   ]
  },
  {
   "attachments": {},
   "cell_type": "markdown",
   "metadata": {},
   "source": [
    "## According to the classification report that was given, the model appears to have done exceptionally well, with an overall accuracy of 1.0 (or 100%). The model did not make any false positive or false negative forecasts, as shown by precision and recall scores for both classes (N and Y) being 1.0. The F1-score, which represents the harmonic mean of precision and memory, is also 1.0 for both classes, demonstrating that the model has attained ideal precision and recall. So, based on this report, it seems like the model is doing very well and has accurately classified every instance in the dataset."
   ]
  },
  {
   "cell_type": "markdown",
   "metadata": {},
   "source": []
  }
 ],
 "metadata": {
  "kernelspec": {
   "display_name": "base",
   "language": "python",
   "name": "python3"
  },
  "language_info": {
   "codemirror_mode": {
    "name": "ipython",
    "version": 3
   },
   "file_extension": ".py",
   "mimetype": "text/x-python",
   "name": "python",
   "nbconvert_exporter": "python",
   "pygments_lexer": "ipython3",
   "version": "3.9.13"
  },
  "orig_nbformat": 4,
  "vscode": {
   "interpreter": {
    "hash": "e3578a507cfddb85b8fa8ba3f6304162502180b0dce1582d5c1df7a0e54bbc59"
   }
  }
 },
 "nbformat": 4,
 "nbformat_minor": 2
}
